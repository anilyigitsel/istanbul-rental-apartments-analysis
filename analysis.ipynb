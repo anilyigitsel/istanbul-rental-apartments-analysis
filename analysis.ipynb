{
 "cells": [
  {
   "cell_type": "code",
   "execution_count": null,
   "metadata": {},
   "outputs": [],
   "source": [
    "# Import necessary libraries for data manipulation and visualization\n",
    "import pandas as pd       \n",
    "import numpy as np        \n",
    "import matplotlib.pyplot as plt  \n",
    "import seaborn as sns    \n",
    "\n",
    "# Load the dataset from a CSV file (update the file path as needed)\n",
    "df = pd.read_csv(\"/Users/anilyigitsel/Documents/personal/dev/istanbul-rental-analysis/data/istanbul_rental_apartments.csv\") \n",
    "\n",
    "# Display general information about the dataset (column types, non-null counts)\n",
    "df.info()\n",
    "\n",
    "# Get descriptive statistics (e.g., mean, std, min, max) for numerical columns\n",
    "df.describe()\n",
    "\n",
    "# Preview the first 5 rows of the dataset\n",
    "df.head()\n",
    "\n",
    "# Remove rows with missing values to ensure clean data for analysis\n",
    "data = df.dropna()"
   ]
  },
  {
   "cell_type": "code",
   "execution_count": null,
   "metadata": {},
   "outputs": [],
   "source": [
    "# Calculate and display the average rental price by district, sorted from highest to lowest.\n",
    "\n",
    "average_price_by_district = df.groupby('district')['price'].mean().sort_values(ascending=False)\n",
    "\n",
    "plt.figure(figsize=(12, 8))\n",
    "average_price_by_district.plot(kind='bar', color='skyblue', edgecolor='black')\n",
    "\n",
    "plt.title('Average Rental Prices by District in Istanbul', fontsize=16)\n",
    "plt.xlabel('Districts', fontsize=12)\n",
    "plt.ylabel('Average Rental Price (TRY)', fontsize=12)\n",
    "\n",
    "plt.xticks(rotation=90)  \n",
    "plt.grid(True)\n",
    "plt.show()"
   ]
  },
  {
   "cell_type": "code",
   "execution_count": null,
   "metadata": {},
   "outputs": [],
   "source": [
    "# Calculate and display the average rental price by floor, sorted from highest to lowest.\n",
    "\n",
    "average_price_by_floor = df.groupby('floor')['price'].mean().sort_values(ascending=False)\n",
    "\n",
    "plt.figure(figsize=(12, 8))\n",
    "average_price_by_floor.plot(kind='bar', color='skyblue', edgecolor='black')\n",
    "\n",
    "plt.title('Average Rental Prices by Floor in Istanbul', fontsize=16)\n",
    "plt.xlabel('Floor', fontsize=12)\n",
    "plt.ylabel('Average Rental Price (TRY)', fontsize=12)\n",
    "\n",
    "plt.xticks(rotation=90)  \n",
    "plt.grid(True)\n",
    "plt.show()"
   ]
  },
  {
   "cell_type": "code",
   "execution_count": null,
   "metadata": {},
   "outputs": [],
   "source": [
    "# Calculate and display the average price per square meter by district, sorted from lowest to highest.\n",
    "\n",
    "df['price_per_m2'] = df['price'] / df['area (m2)']\n",
    "\n",
    "avg_price_per_m2_by_district = df.groupby('district')['price_per_m2'].mean().sort_values(ascending=True)\n",
    "\n",
    "plt.figure(figsize=(12, 8))\n",
    "avg_price_per_m2_by_district.plot(kind='barh', color='skyblue', edgecolor='black')\n",
    "\n",
    "plt.title('Average Price Per Square Meter by District in Istanbul', fontsize=16)\n",
    "plt.xlabel('Average Price Per Square Meter (TRY)', fontsize=12)\n",
    "plt.ylabel('District', fontsize=12)\n",
    "plt.grid(True)\n",
    "plt.show()"
   ]
  },
  {
   "cell_type": "code",
   "execution_count": null,
   "metadata": {},
   "outputs": [],
   "source": [
    "# Calculate and display the average building age by district, sorted from oldest to youngest.\n",
    "\n",
    "avg_age_by_district = df.groupby('district')['age'].mean().sort_values(ascending=False)\n",
    "\n",
    "plt.figure(figsize=(12, 8))\n",
    "avg_age_by_district.plot(kind='barh', color='skyblue', edgecolor='black')\n",
    "\n",
    "plt.title('Average Building Age by District', fontsize=16)\n",
    "plt.xlabel('Average Age of Buildings (Years)', fontsize=12)\n",
    "plt.ylabel('District', fontsize=12)\n",
    "\n",
    "plt.grid(True)\n",
    "plt.show()"
   ]
  },
  {
   "cell_type": "code",
   "execution_count": null,
   "metadata": {},
   "outputs": [],
   "source": [
    "# Remove unnecessary spaces from district names\n",
    "df['district'] = df['district'].str.strip()  \n",
    "\n",
    "# Define Anatolia and Europe districts\n",
    "anatolia = [\n",
    "    'Kadıköy', 'Maltepe', 'Kartal', 'Pendik', 'Tuzla', \n",
    "    'Üsküdar', 'Ataşehir', 'Ümraniye', 'Sancaktepe', \n",
    "    'Sultanbeyli', 'Çekmeköy', 'Adalar', 'Şile', 'Beykoz'\n",
    "]\n",
    "\n",
    "europe = [\n",
    "    'Bakırköy', 'Fatih', 'Beyoğlu', 'Bahçelievler', 'Arnavutköy', \n",
    "    'Beylikdüzü', 'Avcılar', 'Esenyurt', 'Eyüpsultan', 'Beşiktaş', \n",
    "    'Şişli', 'Başakşehir', 'Kağıthane', 'Küçükçekmece', 'Sarıyer', \n",
    "    'Zeytinburnu', 'Büyükçekmece', 'Bağcılar', 'Güngören', \n",
    "    'Gaziosmanpaşa', 'Bayrampaşa', 'Silivri', 'Sultangazi', 'Esenler'\n",
    "]\n",
    "\n",
    "\n",
    "df['region'] = df['district'].apply(lambda x: 'Anatolia' if x in anatolia else ('Europe' if x in europe else 'Unknown')) "
   ]
  },
  {
   "cell_type": "code",
   "execution_count": null,
   "metadata": {},
   "outputs": [],
   "source": [
    "# Calculate and display the average rent price by region, comparing Anatolia and Europe\n",
    "\n",
    "avg_rent_anatolia = df[df['region'] == 'Anatolia']['price'].mean()  \n",
    "avg_rent_europe = df[df['region'] == 'Europe']['price'].mean()  \n",
    "plt.figure(figsize=(8, 5)) \n",
    "plt.bar(['Anatolia', 'Europe'], [avg_rent_anatolia, avg_rent_europe], color=['blue', 'green'])  \n",
    "\n",
    "plt.title('Average Rent Price Comparison', fontsize=14)  \n",
    "plt.xlabel('Region', fontsize=12)  \n",
    "plt.ylabel('Average Rent Price', fontsize=12)  \n",
    "\n",
    "plt.show()  "
   ]
  },
  {
   "cell_type": "code",
   "execution_count": null,
   "metadata": {},
   "outputs": [],
   "source": [
    "# Calculate and display the average building age by region, comparing Anatolia and Europe\n",
    "\n",
    "avg_age_by_region = df.groupby('region')['age'].mean()\n",
    "\n",
    "plt.figure(figsize=(8, 6))  \n",
    "avg_age_by_region.plot(kind='bar', color=['lightblue', 'salmon'])\n",
    "\n",
    "plt.title('Average Building Age by Region', fontsize=16)\n",
    "plt.xlabel('Region', fontsize=12)\n",
    "plt.ylabel('Average Building Age', fontsize=12)\n",
    "\n",
    "plt.grid(True, axis='y', linestyle='--', alpha=0.7)\n",
    "\n",
    "plt.tight_layout()\n",
    "plt.show()"
   ]
  },
  {
   "cell_type": "code",
   "execution_count": null,
   "metadata": {},
   "outputs": [],
   "source": [
    "# Compare the price per m² between Anatolia and Europe regions\n",
    "\n",
    "df_anatolia = df[df['region'] == 'Anatolia']\n",
    "df_europe = df[df['region'] == 'Europe']\n",
    "\n",
    "avg_price_per_m2_anatolia = df_anatolia['price_per_m2'].mean()\n",
    "avg_price_per_m2_europe = df_europe['price_per_m2'].mean()\n",
    "\n",
    "plt.figure(figsize=(8, 6))\n",
    "plt.bar(['Anatolia', 'Europe'], [avg_price_per_m2_anatolia, avg_price_per_m2_europe], color=['green', 'blue'])\n",
    "plt.title('Price per m² Comparison between Anatolia and Europe')\n",
    "plt.xlabel('Region')\n",
    "plt.ylabel('Average Price per m²')\n",
    "plt.show()"
   ]
  }
 ],
 "metadata": {
  "kernelspec": {
   "display_name": "base",
   "language": "python",
   "name": "python3"
  },
  "language_info": {
   "codemirror_mode": {
    "name": "ipython",
    "version": 3
   },
   "file_extension": ".py",
   "mimetype": "text/x-python",
   "name": "python",
   "nbconvert_exporter": "python",
   "pygments_lexer": "ipython3",
   "version": "3.12.7"
  }
 },
 "nbformat": 4,
 "nbformat_minor": 2
}
