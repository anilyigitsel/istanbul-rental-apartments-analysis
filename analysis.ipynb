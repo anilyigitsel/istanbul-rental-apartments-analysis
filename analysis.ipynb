{
 "cells": [
  {
   "cell_type": "code",
   "execution_count": null,
   "metadata": {},
   "outputs": [],
   "source": [
    "# Import necessary libraries for data manipulation and visualization\n",
    "import pandas as pd       \n",
    "import numpy as np        \n",
    "import matplotlib.pyplot as plt  \n",
    "import seaborn as sns    \n",
    "\n",
    "# Load the dataset from a CSV file (update the file path as needed)\n",
    "df = pd.read_csv(\"/Users/anilyigitsel/Documents/personal/dev/istanbul-rental-analysis/data/istanbul_rental_apartments.csv\") \n",
    "\n",
    "# Display general information about the dataset (column types, non-null counts)\n",
    "df.info()\n",
    "\n",
    "# Get descriptive statistics (e.g., mean, std, min, max) for numerical columns\n",
    "df.describe()\n",
    "\n",
    "# Preview the first 5 rows of the dataset\n",
    "df.head()\n",
    "\n",
    "# Remove rows with missing values to ensure clean data for analysis\n",
    "data = df.dropna()"
   ]
  },
  {
   "cell_type": "code",
   "execution_count": null,
   "metadata": {},
   "outputs": [],
   "source": [
    "# Calculate and display the average rental price by district, sorted from highest to lowest.\n",
    "\n",
    "average_price_by_district = df.groupby('district')['price'].mean().sort_values(ascending=False)\n",
    "\n",
    "plt.figure(figsize=(12, 8))\n",
    "average_price_by_district.plot(kind='bar', color='skyblue', edgecolor='black')\n",
    "\n",
    "plt.title('Average Rental Prices by District in Istanbul', fontsize=16)\n",
    "plt.xlabel('Districts', fontsize=12)\n",
    "plt.ylabel('Average Rental Price (TRY)', fontsize=12)\n",
    "\n",
    "plt.xticks(rotation=90)  \n",
    "plt.grid(True)\n",
    "plt.show()"
   ]
  },
  {
   "cell_type": "code",
   "execution_count": null,
   "metadata": {},
   "outputs": [],
   "source": [
    "# Calculate and display the average rental price by floor, sorted from highest to lowest.\n",
    "\n",
    "average_price_by_floor = df.groupby('floor')['price'].mean().sort_values(ascending=False)\n",
    "\n",
    "plt.figure(figsize=(12, 8))\n",
    "average_price_by_floor.plot(kind='bar', color='skyblue', edgecolor='black')\n",
    "\n",
    "plt.title('Average Rental Prices by Floor in Istanbul', fontsize=16)\n",
    "plt.xlabel('Floor', fontsize=12)\n",
    "plt.ylabel('Average Rental Price (TRY)', fontsize=12)\n",
    "\n",
    "plt.xticks(rotation=90)  \n",
    "plt.grid(True)\n",
    "plt.show()"
   ]
  },
  {
   "cell_type": "code",
   "execution_count": null,
   "metadata": {},
   "outputs": [],
   "source": [
    "# Calculate and display the average price per square meter by district, sorted from lowest to highest.\n",
    "\n",
    "df['price_per_m2'] = df['price'] / df['area (m2)']\n",
    "\n",
    "avg_price_per_m2_by_district = df.groupby('district')['price_per_m2'].mean().sort_values(ascending=True)\n",
    "\n",
    "plt.figure(figsize=(12, 8))\n",
    "avg_price_per_m2_by_district.plot(kind='barh', color='skyblue', edgecolor='black')\n",
    "\n",
    "plt.title('Average Price Per Square Meter by District in Istanbul', fontsize=16)\n",
    "plt.xlabel('Average Price Per Square Meter (TRY)', fontsize=12)\n",
    "plt.ylabel('District', fontsize=12)\n",
    "plt.grid(True)\n",
    "plt.show()"
   ]
  },
  {
   "cell_type": "code",
   "execution_count": null,
   "metadata": {},
   "outputs": [],
   "source": [
    "# Calculate and display the average building age by district, sorted from oldest to youngest.\n",
    "\n",
    "avg_age_by_district = df.groupby('district')['age'].mean().sort_values(ascending=False)\n",
    "\n",
    "plt.figure(figsize=(12, 8))\n",
    "avg_age_by_district.plot(kind='barh', color='skyblue', edgecolor='black')\n",
    "\n",
    "plt.title('Average Building Age by District', fontsize=16)\n",
    "plt.xlabel('Average Age of Buildings (Years)', fontsize=12)\n",
    "plt.ylabel('District', fontsize=12)\n",
    "\n",
    "plt.grid(True)\n",
    "plt.show()"
   ]
  },
  {
   "cell_type": "code",
   "execution_count": null,
   "metadata": {},
   "outputs": [],
   "source": [
    "df.info()"
   ]
  }
 ],
 "metadata": {
  "kernelspec": {
   "display_name": "base",
   "language": "python",
   "name": "python3"
  },
  "language_info": {
   "codemirror_mode": {
    "name": "ipython",
    "version": 3
   },
   "file_extension": ".py",
   "mimetype": "text/x-python",
   "name": "python",
   "nbconvert_exporter": "python",
   "pygments_lexer": "ipython3",
   "version": "3.12.7"
  }
 },
 "nbformat": 4,
 "nbformat_minor": 2
}
