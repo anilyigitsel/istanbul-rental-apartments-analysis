{
 "cells": [
  {
   "cell_type": "code",
   "execution_count": null,
   "metadata": {},
   "outputs": [],
   "source": [
    "# Importing libraries\n",
    "\n",
    "import pandas as pd       \n",
    "import numpy as np        \n",
    "import matplotlib.pyplot as plt  \n",
    "import seaborn as sns    \n",
    "\n",
    "# Eeading the csv file (you must enter your file path!)\n",
    "\n",
    "df = pd.read_csv(\"/Users/anilyigitsel/Documents/personal/dev/istanbul-rental-analysis/data/istanbul_rental_apartments.csv\") \n",
    "\n",
    "# General knowledge about dataset\n",
    "\n",
    "df.info()\n",
    "\n",
    "df.describe()\n",
    "\n",
    "df.head()\n",
    "\n",
    "data = df.dropna()"
   ]
  },
  {
   "cell_type": "code",
   "execution_count": null,
   "metadata": {},
   "outputs": [],
   "source": [
    "# Calculating the average rental prices of apartments in each district of Istanbul.\n",
    "# The goal is to visualize how rental prices vary across different districts of the city.\n",
    "\n",
    "average_price_by_district = df.groupby('district')['price'].mean().sort_values(ascending=False)\n",
    "\n",
    "plt.figure(figsize=(12, 8))\n",
    "average_price_by_district.plot(kind='bar', color='skyblue', edgecolor='black')\n",
    "\n",
    "plt.title('Average Rental Prices by District in Istanbul', fontsize=16)\n",
    "plt.xlabel('Districts', fontsize=12)\n",
    "plt.ylabel('Average Rental Price (TRY)', fontsize=12)\n",
    "\n",
    "plt.xticks(rotation=90)  \n",
    "plt.grid(True)\n",
    "plt.show()"
   ]
  },
  {
   "cell_type": "code",
   "execution_count": null,
   "metadata": {},
   "outputs": [],
   "source": [
    "# Calculating the average rental prices of apartments by floor in Istanbul.\n",
    "# The goal is to visualize how rental prices vary across by floor in the city.\n",
    "\n",
    "average_price_by_floor = df.groupby('floor')['price'].mean().sort_values(ascending=False)\n",
    "\n",
    "plt.figure(figsize=(12, 8))\n",
    "average_price_by_floor.plot(kind='bar', color='skyblue', edgecolor='black')\n",
    "\n",
    "plt.title('Average Rental Prices by Floor in Istanbul', fontsize=16)\n",
    "plt.xlabel('Floor', fontsize=12)\n",
    "plt.ylabel('Average Rental Price (TRY)', fontsize=12)\n",
    "\n",
    "plt.xticks(rotation=90)  \n",
    "plt.grid(True)\n",
    "plt.show()"
   ]
  },
  {
   "cell_type": "code",
   "execution_count": null,
   "metadata": {},
   "outputs": [],
   "source": []
  },
  {
   "cell_type": "code",
   "execution_count": null,
   "metadata": {},
   "outputs": [],
   "source": [
    "df.floor"
   ]
  }
 ],
 "metadata": {
  "kernelspec": {
   "display_name": "base",
   "language": "python",
   "name": "python3"
  },
  "language_info": {
   "codemirror_mode": {
    "name": "ipython",
    "version": 3
   },
   "file_extension": ".py",
   "mimetype": "text/x-python",
   "name": "python",
   "nbconvert_exporter": "python",
   "pygments_lexer": "ipython3",
   "version": "3.12.7"
  }
 },
 "nbformat": 4,
 "nbformat_minor": 2
}
